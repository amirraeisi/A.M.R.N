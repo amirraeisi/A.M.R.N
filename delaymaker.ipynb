{
 "cells": [
  {
   "cell_type": "code",
   "execution_count": 14,
   "metadata": {},
   "outputs": [
    {
     "name": "stdout",
     "output_type": "stream",
     "text": [
      "18\n"
     ]
    }
   ],
   "source": [
    "x=int(input())\n",
    "def anghezy(hh = 5 ):\n",
    "    y = hh * 2\n",
    "    return y\n",
    "v = anghezy(x)\n",
    "\n",
    "print(v)\n",
    "\n"
   ]
  },
  {
   "cell_type": "code",
   "execution_count": 21,
   "metadata": {},
   "outputs": [
    {
     "name": "stdout",
     "output_type": "stream",
     "text": [
      "start\n",
      "end\n"
     ]
    }
   ],
   "source": [
    "x= int(input())\n",
    "import time\n",
    "def delaysaz(i):\n",
    "    print(\"start\")\n",
    "    time.sleep(i)\n",
    "    print(\"end\")\n",
    "\n",
    "delaysaz(x)\n"
   ]
  },
  {
   "cell_type": "code",
   "execution_count": 7,
   "metadata": {},
   "outputs": [
    {
     "name": "stdout",
     "output_type": "stream",
     "text": [
      "10\n"
     ]
    }
   ],
   "source": [
    "def s(x):\n",
    "    print(x)\n",
    "\n",
    "    \n",
    "\n",
    "d=(input())\n",
    "if(d==\"\"):\n",
    "    s(10)\n",
    "else:\n",
    "    s(int(d))"
   ]
  },
  {
   "cell_type": "code",
   "execution_count": null,
   "metadata": {},
   "outputs": [
    {
     "name": "stdout",
     "output_type": "stream",
     "text": [
      "ماشین حساب ساده\n",
      "برای خروج 'exit' را وارد کنید.\n",
      "عملیات نامعتبر!\n",
      "عملیات نامعتبر!\n",
      "عملیات نامعتبر!\n",
      "عملیات نامعتبر!\n"
     ]
    }
   ],
   "source": [
    "def calculator():\n",
    "    print(\"ماشین حساب ساده\")\n",
    "    print(\"برای خروج 'exit' را وارد کنید.\")\n",
    "    \n",
    "    while True:\n",
    "        operation = input(\"عملیات را وارد کنید (+, -, *, /): \")\n",
    "        \n",
    "        if operation == \"exit\":\n",
    "            print(\"خروج از برنامه.\")\n",
    "            break\n",
    "        \n",
    "        if operation not in ['+', '-', '*', '/']:\n",
    "            print(\"عملیات نامعتبر!\")\n",
    "            continue\n",
    "        \n",
    "        try:\n",
    "            num1 = float(input(\"عدد اول: \"))\n",
    "            num2 = float(input(\"عدد دوم: \"))\n",
    "            \n",
    "            if operation == \"+\":\n",
    "                result = num1 + num2\n",
    "            elif operation == \"-\":\n",
    "                result = num1 - num2\n",
    "            elif operation == \"*\":\n",
    "                result = num1 * num2\n",
    "            elif operation == \"/\":\n",
    "                if num2 == 0:\n",
    "                    raise ZeroDivisionError(\"تقسیم بر صفر ممکن نیست.\")\n",
    "                result = num1 / num2\n",
    "                \n",
    "            print(\"نتیجه:\", result)\n",
    "        except ValueError:\n",
    "            print(\"عدد وارد شده معتبر نیست.\")\n",
    "        except ZeroDivisionError as e:\n",
    "            print(e)\n",
    "\n",
    "calculator()"
   ]
  },
  {
   "cell_type": "code",
   "execution_count": 30,
   "metadata": {},
   "outputs": [
    {
     "name": "stdout",
     "output_type": "stream",
     "text": [
      "delay maker\n",
      "start\n",
      "end\n",
      "delay maker\n",
      "start\n",
      "end\n",
      "delay maker\n",
      "start\n",
      "end\n"
     ]
    }
   ],
   "source": [
    "import time\n",
    "def delaymaker():\n",
    "        print(\"delay maker\")\n",
    "        print(\"start\")\n",
    "        time.sleep(5)\n",
    "        print(\"end\")\n",
    "i = 1       \n",
    "while i<=3:     \n",
    "    delaymaker() \n",
    "    i = i+1\n"
   ]
  }
 ],
 "metadata": {
  "kernelspec": {
   "display_name": "Python 3",
   "language": "python",
   "name": "python3"
  },
  "language_info": {
   "codemirror_mode": {
    "name": "ipython",
    "version": 3
   },
   "file_extension": ".py",
   "mimetype": "text/x-python",
   "name": "python",
   "nbconvert_exporter": "python",
   "pygments_lexer": "ipython3",
   "version": "3.13.2"
  }
 },
 "nbformat": 4,
 "nbformat_minor": 2
}
