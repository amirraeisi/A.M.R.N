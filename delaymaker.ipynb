{
 "cells": [
  {
   "cell_type": "code",
   "execution_count": 14,
   "metadata": {},
   "outputs": [
    {
     "name": "stdout",
     "output_type": "stream",
     "text": [
      "18\n"
     ]
    }
   ],
   "source": [
    "x=int(input())\n",
    "def anghezy(hh = 5 ):\n",
    "    y = hh * 2\n",
    "    return y\n",
    "v = anghezy(x)\n",
    "\n",
    "print(v)\n",
    "\n"
   ]
  },
  {
   "cell_type": "code",
   "execution_count": null,
   "metadata": {},
   "outputs": [],
   "source": []
  },
  {
   "cell_type": "code",
   "execution_count": 21,
   "metadata": {},
   "outputs": [
    {
     "name": "stdout",
     "output_type": "stream",
     "text": [
      "start\n",
      "end\n"
     ]
    }
   ],
   "source": [
    "x= int(input())\n",
    "import time\n",
    "def delaysaz(i):\n",
    "    print(\"start\")\n",
    "    time.sleep(i)\n",
    "    print(\"end\")\n",
    "\n",
    "delaysaz(x)\n"
   ]
  },
  {
   "cell_type": "code",
   "execution_count": 30,
   "metadata": {},
   "outputs": [
    {
     "name": "stdout",
     "output_type": "stream",
     "text": [
      "delay maker\n",
      "start\n",
      "end\n",
      "delay maker\n",
      "start\n",
      "end\n",
      "delay maker\n",
      "start\n",
      "end\n"
     ]
    }
   ],
   "source": [
    "import time\n",
    "def delaymaker():\n",
    "        print(\"delay maker\")\n",
    "        print(\"start\")\n",
    "        time.sleep(5)\n",
    "        print(\"end\")\n",
    "i = 1       \n",
    "while i<=3:     \n",
    "    delaymaker() \n",
    "    i = i+1\n"
   ]
  }
 ],
 "metadata": {
  "kernelspec": {
   "display_name": "Python 3",
   "language": "python",
   "name": "python3"
  },
  "language_info": {
   "codemirror_mode": {
    "name": "ipython",
    "version": 3
   },
   "file_extension": ".py",
   "mimetype": "text/x-python",
   "name": "python",
   "nbconvert_exporter": "python",
   "pygments_lexer": "ipython3",
   "version": "3.13.2"
  }
 },
 "nbformat": 4,
 "nbformat_minor": 2
}
